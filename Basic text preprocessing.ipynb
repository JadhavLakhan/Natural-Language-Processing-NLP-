{
 "cells": [
  {
   "cell_type": "code",
   "execution_count": 1,
   "metadata": {
    "executionInfo": {
     "elapsed": 434,
     "status": "ok",
     "timestamp": 1736936393605,
     "user": {
      "displayName": "LAKHAN JADHAV",
      "userId": "00180205890731745717"
     },
     "user_tz": -330
    },
    "id": "M7on7ORjt4_g"
   },
   "outputs": [],
   "source": [
    "X='''\n",
    "The sky is filled with vibrant hues as the sun sets over the horizon.\n",
    "She studied diligently for weeks to prepare for the final exam.\n",
    "The dog ran through the park, chasing after its favorite ball.\n",
    "The old library was quiet, with only the sound of turning pages breaking the silence.\n",
    "As the storm approached, the wind began to howl through the trees.\n",
    "'''"
   ]
  },
  {
   "cell_type": "code",
   "execution_count": 2,
   "metadata": {
    "executionInfo": {
     "elapsed": 411,
     "status": "ok",
     "timestamp": 1736936395959,
     "user": {
      "displayName": "LAKHAN JADHAV",
      "userId": "00180205890731745717"
     },
     "user_tz": -330
    },
    "id": "nNChPV62uB5h"
   },
   "outputs": [],
   "source": [
    "Y='''\n",
    "The sun was setting over the horizon, casting a warm golden glow across the landscape. Birds chirped merrily as the cool evening breeze rustled the leaves of the trees. In the distance, the mountains stood tall and majestic, their peaks dusted with the last remnants of snow. The peaceful scene was a reminder of the simple beauty that nature offers, a moment of tranquility in the midst of a busy world.\n",
    "'''"
   ]
  },
  {
   "cell_type": "code",
   "execution_count": 3,
   "metadata": {
    "executionInfo": {
     "elapsed": 433,
     "status": "ok",
     "timestamp": 1736936397732,
     "user": {
      "displayName": "LAKHAN JADHAV",
      "userId": "00180205890731745717"
     },
     "user_tz": -330
    },
    "id": "fQ5vud067hEb"
   },
   "outputs": [],
   "source": [
    "Z='''\n",
    "A man eat food\n",
    "cat eat food\n",
    "people eat food\n",
    "dog eat food\n",
    "'''"
   ]
  },
  {
   "cell_type": "code",
   "execution_count": 4,
   "metadata": {
    "colab": {
     "base_uri": "https://localhost:8080/",
     "height": 88
    },
    "executionInfo": {
     "elapsed": 10,
     "status": "ok",
     "timestamp": 1736936398989,
     "user": {
      "displayName": "LAKHAN JADHAV",
      "userId": "00180205890731745717"
     },
     "user_tz": -330
    },
    "id": "v15JUTUu5TYu",
    "outputId": "929b515f-269e-48ee-c8a4-e44f035b099a"
   },
   "outputs": [
    {
     "data": {
      "text/plain": [
       "'\\nThe sky is filled with vibrant hues as the sun sets over the horizon.\\nShe studied diligently for weeks to prepare for the final exam.\\nThe dog ran through the park, chasing after its favorite ball.\\nThe old library was quiet, with only the sound of turning pages breaking the silence.\\nAs the storm approached, the wind began to howl through the trees.\\n'"
      ]
     },
     "execution_count": 4,
     "metadata": {},
     "output_type": "execute_result"
    }
   ],
   "source": [
    "X"
   ]
  },
  {
   "cell_type": "code",
   "execution_count": 5,
   "metadata": {
    "colab": {
     "base_uri": "https://localhost:8080/",
     "height": 88
    },
    "executionInfo": {
     "elapsed": 792,
     "status": "ok",
     "timestamp": 1736936402409,
     "user": {
      "displayName": "LAKHAN JADHAV",
      "userId": "00180205890731745717"
     },
     "user_tz": -330
    },
    "id": "bQAu_oQE5TxA",
    "outputId": "7b111315-d79f-4267-aa36-e263500261f8"
   },
   "outputs": [
    {
     "data": {
      "text/plain": [
       "'\\nThe sun was setting over the horizon, casting a warm golden glow across the landscape. Birds chirped merrily as the cool evening breeze rustled the leaves of the trees. In the distance, the mountains stood tall and majestic, their peaks dusted with the last remnants of snow. The peaceful scene was a reminder of the simple beauty that nature offers, a moment of tranquility in the midst of a busy world.\\n'"
      ]
     },
     "execution_count": 5,
     "metadata": {},
     "output_type": "execute_result"
    }
   ],
   "source": [
    "Y"
   ]
  },
  {
   "cell_type": "code",
   "execution_count": 6,
   "metadata": {
    "executionInfo": {
     "elapsed": 3969,
     "status": "ok",
     "timestamp": 1736936407711,
     "user": {
      "displayName": "LAKHAN JADHAV",
      "userId": "00180205890731745717"
     },
     "user_tz": -330
    },
    "id": "7ziMqRwcuG9m"
   },
   "outputs": [],
   "source": [
    "import nltk #Natural Language Toolkit"
   ]
  },
  {
   "cell_type": "code",
   "execution_count": 7,
   "metadata": {
    "executionInfo": {
     "elapsed": 672,
     "status": "ok",
     "timestamp": 1736936410128,
     "user": {
      "displayName": "LAKHAN JADHAV",
      "userId": "00180205890731745717"
     },
     "user_tz": -330
    },
    "id": "pXb6hPnCu7zO"
   },
   "outputs": [],
   "source": [
    "from nltk.stem import WordNetLemmatizer,PorterStemmer\n",
    "# PorterStemmer:- This is a stemming algorithm that reduces words to their base or root form (e.g., \"running\" becomes \"run\").\n",
    "# WordNetLemmatizer:- It’s particularly useful in tasks where understanding the meaning of a word is important\n"
   ]
  },
  {
   "cell_type": "code",
   "execution_count": 8,
   "metadata": {
    "executionInfo": {
     "elapsed": 576,
     "status": "ok",
     "timestamp": 1736936417489,
     "user": {
      "displayName": "LAKHAN JADHAV",
      "userId": "00180205890731745717"
     },
     "user_tz": -330
    },
    "id": "MZMAJ164wwbL"
   },
   "outputs": [],
   "source": [
    "from nltk.corpus import stopwords"
   ]
  },
  {
   "cell_type": "code",
   "execution_count": 9,
   "metadata": {
    "colab": {
     "base_uri": "https://localhost:8080/"
    },
    "executionInfo": {
     "elapsed": 850,
     "status": "ok",
     "timestamp": 1736936420265,
     "user": {
      "displayName": "LAKHAN JADHAV",
      "userId": "00180205890731745717"
     },
     "user_tz": -330
    },
    "id": "I_387ti6yQNd",
    "outputId": "9f3e594a-e0c9-4933-ebfa-8782c2172744"
   },
   "outputs": [
    {
     "name": "stderr",
     "output_type": "stream",
     "text": [
      "[nltk_data] Downloading package stopwords to\n",
      "[nltk_data]     C:\\Users\\ASUS\\AppData\\Roaming\\nltk_data...\n",
      "[nltk_data]   Unzipping corpora\\stopwords.zip.\n",
      "[nltk_data] Downloading package wordnet to\n",
      "[nltk_data]     C:\\Users\\ASUS\\AppData\\Roaming\\nltk_data...\n"
     ]
    },
    {
     "data": {
      "text/plain": [
       "True"
      ]
     },
     "execution_count": 9,
     "metadata": {},
     "output_type": "execute_result"
    }
   ],
   "source": [
    "nltk.download('stopwords')\n",
    "#The stopwords corpus contains a list of common words in various languages that are typically removed from text during preprocessing.\n",
    "#These words (e.g., \"the\", \"and\", \"is\", \"in\") don't add much meaning to text analysis and are often considered noise.\n",
    "\n",
    "\n",
    "nltk.download('wordnet')\n",
    "#WordNet is a lexical database of English that groups words into sets of synonyms (synsets),\n",
    "#provides definitions, and records various relationships between words (such as hypernyms, hyponyms, meronyms, etc.)."
   ]
  },
  {
   "cell_type": "code",
   "execution_count": 10,
   "metadata": {
    "executionInfo": {
     "elapsed": 4,
     "status": "ok",
     "timestamp": 1736936421518,
     "user": {
      "displayName": "LAKHAN JADHAV",
      "userId": "00180205890731745717"
     },
     "user_tz": -330
    },
    "id": "ZojWHmuvyT4a"
   },
   "outputs": [],
   "source": [
    "stemmer=PorterStemmer()\n",
    "lemmatizer=WordNetLemmatizer()"
   ]
  },
  {
   "cell_type": "code",
   "execution_count": 11,
   "metadata": {
    "colab": {
     "base_uri": "https://localhost:8080/"
    },
    "executionInfo": {
     "elapsed": 432,
     "status": "ok",
     "timestamp": 1736936423422,
     "user": {
      "displayName": "LAKHAN JADHAV",
      "userId": "00180205890731745717"
     },
     "user_tz": -330
    },
    "id": "2ShFQc7J39H5",
    "outputId": "aa8a1319-7ea6-4fa1-d992-a2448d00ecf5"
   },
   "outputs": [
    {
     "name": "stderr",
     "output_type": "stream",
     "text": [
      "[nltk_data] Downloading package punkt_tab to\n",
      "[nltk_data]     C:\\Users\\ASUS\\AppData\\Roaming\\nltk_data...\n",
      "[nltk_data]   Unzipping tokenizers\\punkt_tab.zip.\n"
     ]
    }
   ],
   "source": [
    "# Tokenization :- covert paragarph into sentences\n",
    "nltk.download('punkt_tab')\n",
    "sentence=nltk.sent_tokenize(X)"
   ]
  },
  {
   "cell_type": "code",
   "execution_count": 12,
   "metadata": {
    "colab": {
     "base_uri": "https://localhost:8080/"
    },
    "executionInfo": {
     "elapsed": 869,
     "status": "ok",
     "timestamp": 1736936427172,
     "user": {
      "displayName": "LAKHAN JADHAV",
      "userId": "00180205890731745717"
     },
     "user_tz": -330
    },
    "id": "0TEUKNTX4QXx",
    "outputId": "78a611c2-b1de-4951-fece-dd6106580da6"
   },
   "outputs": [
    {
     "name": "stderr",
     "output_type": "stream",
     "text": [
      "[nltk_data] Downloading package punkt to\n",
      "[nltk_data]     C:\\Users\\ASUS\\AppData\\Roaming\\nltk_data...\n",
      "[nltk_data]   Unzipping tokenizers\\punkt.zip.\n"
     ]
    }
   ],
   "source": [
    "# Tokenization :- covert paragarph into sentences\n",
    "nltk.download('punkt')\n",
    "sentence1=nltk.sent_tokenize(X)\n",
    "sentence2=nltk.sent_tokenize(Y)\n",
    "sentence3=nltk.sent_tokenize(Z)"
   ]
  },
  {
   "cell_type": "code",
   "execution_count": 13,
   "metadata": {
    "colab": {
     "base_uri": "https://localhost:8080/"
    },
    "executionInfo": {
     "elapsed": 691,
     "status": "ok",
     "timestamp": 1736936431755,
     "user": {
      "displayName": "LAKHAN JADHAV",
      "userId": "00180205890731745717"
     },
     "user_tz": -330
    },
    "id": "2Iye-OVH5-AA",
    "outputId": "62c53e7a-b1bf-408b-d503-bc1742307875"
   },
   "outputs": [
    {
     "name": "stdout",
     "output_type": "stream",
     "text": [
      "['\\nThe sky is filled with vibrant hues as the sun sets over the horizon.', 'She studied diligently for weeks to prepare for the final exam.', 'The dog ran through the park, chasing after its favorite ball.', 'The old library was quiet, with only the sound of turning pages breaking the silence.', 'As the storm approached, the wind began to howl through the trees.']\n"
     ]
    }
   ],
   "source": [
    "print(sentence1)"
   ]
  },
  {
   "cell_type": "code",
   "execution_count": 14,
   "metadata": {
    "colab": {
     "base_uri": "https://localhost:8080/"
    },
    "executionInfo": {
     "elapsed": 5,
     "status": "ok",
     "timestamp": 1736936433184,
     "user": {
      "displayName": "LAKHAN JADHAV",
      "userId": "00180205890731745717"
     },
     "user_tz": -330
    },
    "id": "vCRmDrRc6IUC",
    "outputId": "86d557ba-15ef-41f9-d3b3-5f2dad6c5f3b"
   },
   "outputs": [
    {
     "name": "stdout",
     "output_type": "stream",
     "text": [
      "['\\nThe sun was setting over the horizon, casting a warm golden glow across the landscape.', 'Birds chirped merrily as the cool evening breeze rustled the leaves of the trees.', 'In the distance, the mountains stood tall and majestic, their peaks dusted with the last remnants of snow.', 'The peaceful scene was a reminder of the simple beauty that nature offers, a moment of tranquility in the midst of a busy world.']\n"
     ]
    }
   ],
   "source": [
    "print(sentence2)"
   ]
  },
  {
   "cell_type": "code",
   "execution_count": 15,
   "metadata": {
    "colab": {
     "base_uri": "https://localhost:8080/"
    },
    "executionInfo": {
     "elapsed": 399,
     "status": "ok",
     "timestamp": 1736936435864,
     "user": {
      "displayName": "LAKHAN JADHAV",
      "userId": "00180205890731745717"
     },
     "user_tz": -330
    },
    "id": "x2JovhIf76aw",
    "outputId": "3375fc07-10a6-4a80-fcf1-cfc8b1c4bcee"
   },
   "outputs": [
    {
     "name": "stdout",
     "output_type": "stream",
     "text": [
      "['\\nA man eat food\\ncat eat food\\npeople eat food\\ndog eat food']\n"
     ]
    }
   ],
   "source": [
    "print(sentence3)"
   ]
  },
  {
   "cell_type": "code",
   "execution_count": 16,
   "metadata": {
    "executionInfo": {
     "elapsed": 433,
     "status": "ok",
     "timestamp": 1736936439847,
     "user": {
      "displayName": "LAKHAN JADHAV",
      "userId": "00180205890731745717"
     },
     "user_tz": -330
    },
    "id": "SMat3lTY8D7L"
   },
   "outputs": [],
   "source": [
    "import re #regular expressions"
   ]
  },
  {
   "cell_type": "code",
   "execution_count": 21,
   "metadata": {
    "executionInfo": {
     "elapsed": 4,
     "status": "ok",
     "timestamp": 1736936442344,
     "user": {
      "displayName": "LAKHAN JADHAV",
      "userId": "00180205890731745717"
     },
     "user_tz": -330
    },
    "id": "B7Djll3rEjYc"
   },
   "outputs": [],
   "source": [
    "text='Hello i am lakhan jadhav  i am 26yrs old i like play to various cricketing shots in cricket i am fail in final exam finally  i like read history books and listning historical stories '\n",
    "text=nltk.word_tokenize(text)"
   ]
  },
  {
   "cell_type": "code",
   "execution_count": 22,
   "metadata": {
    "executionInfo": {
     "elapsed": 433,
     "status": "ok",
     "timestamp": 1736936444973,
     "user": {
      "displayName": "LAKHAN JADHAV",
      "userId": "00180205890731745717"
     },
     "user_tz": -330
    },
    "id": "M1BMVowbEjQR"
   },
   "outputs": [],
   "source": [
    "#Tokenization\n",
    "A=[]\n",
    "for i in range(len(text)):\n",
    "  review=re.sub('[^a-zA-Z]',' ',text[i])\n",
    "  review=review.lower()\n",
    "  A.append(review)"
   ]
  },
  {
   "cell_type": "code",
   "execution_count": 23,
   "metadata": {
    "colab": {
     "base_uri": "https://localhost:8080/"
    },
    "executionInfo": {
     "elapsed": 439,
     "status": "ok",
     "timestamp": 1736936447945,
     "user": {
      "displayName": "LAKHAN JADHAV",
      "userId": "00180205890731745717"
     },
     "user_tz": -330
    },
    "id": "d7VKJWMMFBCG",
    "outputId": "995180c3-d8e0-4317-ee15-6f0229548908"
   },
   "outputs": [
    {
     "data": {
      "text/plain": [
       "['hello',\n",
       " 'i',\n",
       " 'am',\n",
       " 'lakhan',\n",
       " 'jadhav',\n",
       " 'i',\n",
       " 'am',\n",
       " '  yrs',\n",
       " 'old',\n",
       " 'i',\n",
       " 'like',\n",
       " 'play',\n",
       " 'to',\n",
       " 'various',\n",
       " 'cricketing',\n",
       " 'shots',\n",
       " 'in',\n",
       " 'cricket',\n",
       " 'i',\n",
       " 'am',\n",
       " 'fail',\n",
       " 'in',\n",
       " 'final',\n",
       " 'exam',\n",
       " 'finally',\n",
       " 'i',\n",
       " 'like',\n",
       " 'read',\n",
       " 'history',\n",
       " 'books',\n",
       " 'and',\n",
       " 'listning',\n",
       " 'historical',\n",
       " 'stories']"
      ]
     },
     "execution_count": 23,
     "metadata": {},
     "output_type": "execute_result"
    }
   ],
   "source": [
    "A"
   ]
  },
  {
   "cell_type": "code",
   "execution_count": 24,
   "metadata": {
    "colab": {
     "base_uri": "https://localhost:8080/"
    },
    "executionInfo": {
     "elapsed": 397,
     "status": "ok",
     "timestamp": 1736936477661,
     "user": {
      "displayName": "LAKHAN JADHAV",
      "userId": "00180205890731745717"
     },
     "user_tz": -330
    },
    "id": "Yz3JBMCYGbm3",
    "outputId": "215bba58-32fd-4051-b82b-5d785dbf4d49"
   },
   "outputs": [
    {
     "name": "stdout",
     "output_type": "stream",
     "text": [
      "hello\n",
      "lakhan\n",
      "jadhav\n",
      "yr\n",
      "old\n",
      "like\n",
      "play\n",
      "variou\n",
      "cricket\n",
      "shot\n",
      "cricket\n",
      "fail\n",
      "final\n",
      "exam\n",
      "final\n",
      "like\n",
      "read\n",
      "histori\n",
      "book\n",
      "listn\n",
      "histor\n",
      "stori\n"
     ]
    }
   ],
   "source": [
    "#Stemming\n",
    "for i in A:\n",
    "  word=nltk.word_tokenize(i)\n",
    "  for j in word:\n",
    "    if j not in set(stopwords.words('english')):\n",
    "      print(stemmer.stem(j))"
   ]
  },
  {
   "cell_type": "code",
   "execution_count": 25,
   "metadata": {
    "colab": {
     "base_uri": "https://localhost:8080/"
    },
    "executionInfo": {
     "elapsed": 7513,
     "status": "ok",
     "timestamp": 1736936536686,
     "user": {
      "displayName": "LAKHAN JADHAV",
      "userId": "00180205890731745717"
     },
     "user_tz": -330
    },
    "id": "NzieswxDGbjb",
    "outputId": "008bdd1c-26d1-4a7c-d98b-6e1fb96e4043"
   },
   "outputs": [
    {
     "name": "stdout",
     "output_type": "stream",
     "text": [
      "hello\n",
      "lakhan\n",
      "jadhav\n",
      "yr\n",
      "old\n",
      "like\n",
      "play\n",
      "various\n",
      "cricketing\n",
      "shot\n",
      "cricket\n",
      "fail\n",
      "final\n",
      "exam\n",
      "finally\n",
      "like\n",
      "read\n",
      "history\n",
      "book\n",
      "listning\n",
      "historical\n",
      "story\n"
     ]
    }
   ],
   "source": [
    "#Lemmitization\n",
    "for i in A:\n",
    "  word=nltk.word_tokenize(i)\n",
    "  for j in word:\n",
    "    if j not in set(stopwords.words('english')):\n",
    "      print(lemmatizer.lemmatize(j))"
   ]
  },
  {
   "cell_type": "code",
   "execution_count": 26,
   "metadata": {
    "executionInfo": {
     "elapsed": 405,
     "status": "ok",
     "timestamp": 1736936563646,
     "user": {
      "displayName": "LAKHAN JADHAV",
      "userId": "00180205890731745717"
     },
     "user_tz": -330
    },
    "id": "qDzKKkkYGbgk"
   },
   "outputs": [],
   "source": [
    "# stopword , Lemmitization\n",
    "corpus=[]\n",
    "for i in range(len(text)):\n",
    "  review=re.sub('[^a-zA-Z]',' ',text[i])\n",
    "  review=review.lower()\n",
    "  review=review.split()\n",
    "  review=[lemmatizer.lemmatize(word) for word in review if not word in set(stopwords.words('english'))]\n",
    "  review=' '.join(review)\n",
    "  corpus.append(review)\n"
   ]
  },
  {
   "cell_type": "code",
   "execution_count": 27,
   "metadata": {
    "colab": {
     "base_uri": "https://localhost:8080/"
    },
    "executionInfo": {
     "elapsed": 7,
     "status": "ok",
     "timestamp": 1736936571962,
     "user": {
      "displayName": "LAKHAN JADHAV",
      "userId": "00180205890731745717"
     },
     "user_tz": -330
    },
    "id": "kyKtQ0svGbOE",
    "outputId": "6259683f-cce5-4d78-fb1f-de864ca9df6f"
   },
   "outputs": [
    {
     "data": {
      "text/plain": [
       "['hello',\n",
       " '',\n",
       " '',\n",
       " 'lakhan',\n",
       " 'jadhav',\n",
       " '',\n",
       " '',\n",
       " 'yr',\n",
       " 'old',\n",
       " '',\n",
       " 'like',\n",
       " 'play',\n",
       " '',\n",
       " 'various',\n",
       " 'cricketing',\n",
       " 'shot',\n",
       " '',\n",
       " 'cricket',\n",
       " '',\n",
       " '',\n",
       " 'fail',\n",
       " '',\n",
       " 'final',\n",
       " 'exam',\n",
       " 'finally',\n",
       " '',\n",
       " 'like',\n",
       " 'read',\n",
       " 'history',\n",
       " 'book',\n",
       " '',\n",
       " 'listning',\n",
       " 'historical',\n",
       " 'story']"
      ]
     },
     "execution_count": 27,
     "metadata": {},
     "output_type": "execute_result"
    }
   ],
   "source": [
    "corpus"
   ]
  },
  {
   "cell_type": "code",
   "execution_count": 28,
   "metadata": {
    "executionInfo": {
     "elapsed": 466,
     "status": "ok",
     "timestamp": 1736938206061,
     "user": {
      "displayName": "LAKHAN JADHAV",
      "userId": "00180205890731745717"
     },
     "user_tz": -330
    },
    "id": "sfJ7zVHnfOEM"
   },
   "outputs": [],
   "source": [
    "#Bag of words\n",
    "from sklearn.feature_extraction.text import CountVectorizer\n",
    "CV=CountVectorizer(binary=True,ngram_range=(1,2))\n",
    "VC=CV.fit_transform(corpus).toarray()"
   ]
  },
  {
   "cell_type": "code",
   "execution_count": 29,
   "metadata": {
    "colab": {
     "base_uri": "https://localhost:8080/"
    },
    "executionInfo": {
     "elapsed": 396,
     "status": "ok",
     "timestamp": 1736938212219,
     "user": {
      "displayName": "LAKHAN JADHAV",
      "userId": "00180205890731745717"
     },
     "user_tz": -330
    },
    "id": "Tjn8wfnEfN9v",
    "outputId": "2f1e7b25-f92c-4f9f-eb33-8da5c304d8e3"
   },
   "outputs": [
    {
     "data": {
      "text/plain": [
       "{'hello': 7,\n",
       " 'lakhan': 11,\n",
       " 'jadhav': 10,\n",
       " 'yr': 20,\n",
       " 'old': 14,\n",
       " 'like': 12,\n",
       " 'play': 15,\n",
       " 'various': 19,\n",
       " 'cricketing': 2,\n",
       " 'shot': 17,\n",
       " 'cricket': 1,\n",
       " 'fail': 4,\n",
       " 'final': 5,\n",
       " 'exam': 3,\n",
       " 'finally': 6,\n",
       " 'read': 16,\n",
       " 'history': 9,\n",
       " 'book': 0,\n",
       " 'listning': 13,\n",
       " 'historical': 8,\n",
       " 'story': 18}"
      ]
     },
     "execution_count": 29,
     "metadata": {},
     "output_type": "execute_result"
    }
   ],
   "source": [
    "CV.vocabulary_"
   ]
  },
  {
   "cell_type": "code",
   "execution_count": 30,
   "metadata": {
    "colab": {
     "base_uri": "https://localhost:8080/"
    },
    "executionInfo": {
     "elapsed": 511,
     "status": "ok",
     "timestamp": 1736938215915,
     "user": {
      "displayName": "LAKHAN JADHAV",
      "userId": "00180205890731745717"
     },
     "user_tz": -330
    },
    "id": "mwLFZEAvic84",
    "outputId": "266c8130-04f1-4911-ebb1-7513046cea80"
   },
   "outputs": [
    {
     "data": {
      "text/plain": [
       "['hello', '', '', 'lakhan', 'jadhav', '', '', 'yr', 'old', '']"
      ]
     },
     "execution_count": 30,
     "metadata": {},
     "output_type": "execute_result"
    }
   ],
   "source": [
    "corpus[0:10]"
   ]
  },
  {
   "cell_type": "code",
   "execution_count": 31,
   "metadata": {
    "colab": {
     "base_uri": "https://localhost:8080/"
    },
    "executionInfo": {
     "elapsed": 500,
     "status": "ok",
     "timestamp": 1736938219297,
     "user": {
      "displayName": "LAKHAN JADHAV",
      "userId": "00180205890731745717"
     },
     "user_tz": -330
    },
    "id": "EOXN0vRtic52",
    "outputId": "f1ae31b0-6d95-4a7a-e05b-16e9a31fe0ed"
   },
   "outputs": [
    {
     "data": {
      "text/plain": [
       "array([0, 0, 0, 0, 0, 0, 0, 0, 0, 0, 1, 0, 0, 0, 0, 0, 0, 0, 0, 0, 0],\n",
       "      dtype=int64)"
      ]
     },
     "execution_count": 31,
     "metadata": {},
     "output_type": "execute_result"
    }
   ],
   "source": [
    "VC[4]"
   ]
  },
  {
   "cell_type": "code",
   "execution_count": 32,
   "metadata": {
    "executionInfo": {
     "elapsed": 502,
     "status": "ok",
     "timestamp": 1736939270014,
     "user": {
      "displayName": "LAKHAN JADHAV",
      "userId": "00180205890731745717"
     },
     "user_tz": -330
    },
    "id": "8CSgBVEtic3M"
   },
   "outputs": [],
   "source": [
    "# TF-IDF Term Frequency and Inverse Document Frequecy\n",
    "from sklearn.feature_extraction.text import TfidfVectorizer\n",
    "TV=TfidfVectorizer(ngram_range=(1,2))"
   ]
  },
  {
   "cell_type": "code",
   "execution_count": 33,
   "metadata": {
    "executionInfo": {
     "elapsed": 11322,
     "status": "ok",
     "timestamp": 1736939283119,
     "user": {
      "displayName": "LAKHAN JADHAV",
      "userId": "00180205890731745717"
     },
     "user_tz": -330
    },
    "id": "__wuD-mUkfXp"
   },
   "outputs": [],
   "source": [
    "vc=TV.fit_transform(corpus).toarray()"
   ]
  },
  {
   "cell_type": "code",
   "execution_count": 34,
   "metadata": {
    "colab": {
     "base_uri": "https://localhost:8080/"
    },
    "executionInfo": {
     "elapsed": 5,
     "status": "ok",
     "timestamp": 1736939303084,
     "user": {
      "displayName": "LAKHAN JADHAV",
      "userId": "00180205890731745717"
     },
     "user_tz": -330
    },
    "id": "zcGg79H7kfUU",
    "outputId": "ec06ead5-9119-4104-c174-0314fcb8b9e4"
   },
   "outputs": [
    {
     "data": {
      "text/plain": [
       "array([0., 0., 0., 0., 0., 0., 0., 1., 0., 0., 0., 0., 0., 0., 0., 0., 0.,\n",
       "       0., 0., 0., 0.])"
      ]
     },
     "execution_count": 34,
     "metadata": {},
     "output_type": "execute_result"
    }
   ],
   "source": [
    "vc[0]"
   ]
  },
  {
   "cell_type": "code",
   "execution_count": null,
   "metadata": {
    "id": "9ULM8R9CkfRt"
   },
   "outputs": [],
   "source": []
  },
  {
   "cell_type": "code",
   "execution_count": null,
   "metadata": {
    "id": "F_d4fteikfPB"
   },
   "outputs": [],
   "source": []
  },
  {
   "cell_type": "code",
   "execution_count": null,
   "metadata": {
    "id": "F_b2l53BkfM0"
   },
   "outputs": [],
   "source": []
  },
  {
   "cell_type": "code",
   "execution_count": null,
   "metadata": {
    "id": "T4U4_Y57kfKH"
   },
   "outputs": [],
   "source": []
  },
  {
   "cell_type": "code",
   "execution_count": 35,
   "metadata": {
    "colab": {
     "base_uri": "https://localhost:8080/"
    },
    "executionInfo": {
     "elapsed": 458,
     "status": "ok",
     "timestamp": 1736942698099,
     "user": {
      "displayName": "LAKHAN JADHAV",
      "userId": "00180205890731745717"
     },
     "user_tz": -330
    },
    "id": "2OzAKFPe2hPD",
    "outputId": "1be93952-675a-45af-e569-db9c01bba5c4"
   },
   "outputs": [
    {
     "data": {
      "text/plain": [
       "['\\nThe sun was setting over the horizon, casting a warm golden glow across the landscape.',\n",
       " 'Birds chirped merrily as the cool evening breeze rustled the leaves of the trees.',\n",
       " 'In the distance, the mountains stood tall and majestic, their peaks dusted with the last remnants of snow.',\n",
       " 'The peaceful scene was a reminder of the simple beauty that nature offers, a moment of tranquility in the midst of a busy world.']"
      ]
     },
     "execution_count": 35,
     "metadata": {},
     "output_type": "execute_result"
    }
   ],
   "source": [
    "sentence2"
   ]
  },
  {
   "cell_type": "code",
   "execution_count": 36,
   "metadata": {
    "executionInfo": {
     "elapsed": 510,
     "status": "ok",
     "timestamp": 1736942432893,
     "user": {
      "displayName": "LAKHAN JADHAV",
      "userId": "00180205890731745717"
     },
     "user_tz": -330
    },
    "id": "LOaTxTo9kfHU"
   },
   "outputs": [],
   "source": [
    "lines=['he is a good boy','she is a good girl','they are good friends','she is a good singer','boy and girl are good']"
   ]
  },
  {
   "cell_type": "code",
   "execution_count": 37,
   "metadata": {
    "colab": {
     "base_uri": "https://localhost:8080/"
    },
    "executionInfo": {
     "elapsed": 472,
     "status": "ok",
     "timestamp": 1736942519580,
     "user": {
      "displayName": "LAKHAN JADHAV",
      "userId": "00180205890731745717"
     },
     "user_tz": -330
    },
    "id": "BJYbXGN6yOfY",
    "outputId": "daea86b9-a747-4920-c6f5-8fa631c4c586"
   },
   "outputs": [
    {
     "data": {
      "text/plain": [
       "['he is a good boy she is a good girl they are good friends she is a good singer boy and girl are good']"
      ]
     },
     "execution_count": 37,
     "metadata": {},
     "output_type": "execute_result"
    }
   ],
   "source": [
    "text=' '.join(lines)\n",
    "line=nltk.sent_tokenize(text)\n",
    "line"
   ]
  },
  {
   "cell_type": "code",
   "execution_count": null,
   "metadata": {
    "id": "_uLOxC2O2oIE"
   },
   "outputs": [],
   "source": []
  },
  {
   "cell_type": "code",
   "execution_count": 38,
   "metadata": {
    "executionInfo": {
     "elapsed": 680,
     "status": "ok",
     "timestamp": 1736942755741,
     "user": {
      "displayName": "LAKHAN JADHAV",
      "userId": "00180205890731745717"
     },
     "user_tz": -330
    },
    "id": "FU5Ft_gO8rU3"
   },
   "outputs": [],
   "source": [
    "corpus=[]\n",
    "for i in range(len(sentence2)): # len:- length of words , range:- sequences of number (len(sentence3))\n",
    "  review=re.sub('[^a-zA-Z]',' ',sentence2[i])\n",
    "  review=review.lower()\n",
    "  corpus.append(review)\n",
    "\n",
    "#re.sub(): This function takes three arguments:\n",
    "#The pattern to match.\n",
    "#The string to replace the matched pattern with.\n",
    "#The input string where the substitution will occur."
   ]
  },
  {
   "cell_type": "code",
   "execution_count": 39,
   "metadata": {
    "colab": {
     "base_uri": "https://localhost:8080/"
    },
    "executionInfo": {
     "elapsed": 562,
     "status": "ok",
     "timestamp": 1736942758297,
     "user": {
      "displayName": "LAKHAN JADHAV",
      "userId": "00180205890731745717"
     },
     "user_tz": -330
    },
    "id": "Ast2JmVx8zM5",
    "outputId": "ede416ad-efcc-41ca-fa48-d672dd02d7a5"
   },
   "outputs": [
    {
     "data": {
      "text/plain": [
       "[' the sun was setting over the horizon  casting a warm golden glow across the landscape ',\n",
       " 'birds chirped merrily as the cool evening breeze rustled the leaves of the trees ',\n",
       " 'in the distance  the mountains stood tall and majestic  their peaks dusted with the last remnants of snow ',\n",
       " 'the peaceful scene was a reminder of the simple beauty that nature offers  a moment of tranquility in the midst of a busy world ']"
      ]
     },
     "execution_count": 39,
     "metadata": {},
     "output_type": "execute_result"
    }
   ],
   "source": [
    "corpus"
   ]
  },
  {
   "cell_type": "code",
   "execution_count": 40,
   "metadata": {
    "colab": {
     "base_uri": "https://localhost:8080/"
    },
    "executionInfo": {
     "elapsed": 463,
     "status": "ok",
     "timestamp": 1736942764890,
     "user": {
      "displayName": "LAKHAN JADHAV",
      "userId": "00180205890731745717"
     },
     "user_tz": -330
    },
    "id": "d7ehI0L-lpsI",
    "outputId": "3800242f-42a5-4056-aeca-6238bfc539d0"
   },
   "outputs": [
    {
     "name": "stdout",
     "output_type": "stream",
     "text": [
      "sun\n",
      "set\n",
      "horizon\n",
      "cast\n",
      "warm\n",
      "golden\n",
      "glow\n",
      "across\n",
      "landscap\n",
      "bird\n",
      "chirp\n",
      "merrili\n",
      "cool\n",
      "even\n",
      "breez\n",
      "rustl\n",
      "leav\n",
      "tree\n",
      "distanc\n",
      "mountain\n",
      "stood\n",
      "tall\n",
      "majest\n",
      "peak\n",
      "dust\n",
      "last\n",
      "remnant\n",
      "snow\n",
      "peac\n",
      "scene\n",
      "remind\n",
      "simpl\n",
      "beauti\n",
      "natur\n",
      "offer\n",
      "moment\n",
      "tranquil\n",
      "midst\n",
      "busi\n",
      "world\n"
     ]
    }
   ],
   "source": [
    "for i in corpus:\n",
    "  word=nltk.word_tokenize(i)\n",
    "  for j in word:\n",
    "    if j not in set(stopwords.words('english')):\n",
    "      print(stemmer.stem(j))"
   ]
  },
  {
   "cell_type": "code",
   "execution_count": 41,
   "metadata": {
    "colab": {
     "base_uri": "https://localhost:8080/"
    },
    "executionInfo": {
     "elapsed": 498,
     "status": "ok",
     "timestamp": 1736942771276,
     "user": {
      "displayName": "LAKHAN JADHAV",
      "userId": "00180205890731745717"
     },
     "user_tz": -330
    },
    "id": "jKDozoLqlpoz",
    "outputId": "fc4e5ca6-b436-49ed-f236-6c4d1fbdf798"
   },
   "outputs": [
    {
     "name": "stdout",
     "output_type": "stream",
     "text": [
      "sun\n",
      "setting\n",
      "horizon\n",
      "casting\n",
      "warm\n",
      "golden\n",
      "glow\n",
      "across\n",
      "landscape\n",
      "bird\n",
      "chirped\n",
      "merrily\n",
      "cool\n",
      "evening\n",
      "breeze\n",
      "rustled\n",
      "leaf\n",
      "tree\n",
      "distance\n",
      "mountain\n",
      "stood\n",
      "tall\n",
      "majestic\n",
      "peak\n",
      "dusted\n",
      "last\n",
      "remnant\n",
      "snow\n",
      "peaceful\n",
      "scene\n",
      "reminder\n",
      "simple\n",
      "beauty\n",
      "nature\n",
      "offer\n",
      "moment\n",
      "tranquility\n",
      "midst\n",
      "busy\n",
      "world\n"
     ]
    }
   ],
   "source": [
    "for i in corpus:\n",
    "  word=nltk.word_tokenize(i)\n",
    "  for j in word:\n",
    "    if j not in set(stopwords.words('english')):\n",
    "      print(lemmatizer.lemmatize(j))"
   ]
  },
  {
   "cell_type": "code",
   "execution_count": 42,
   "metadata": {
    "executionInfo": {
     "elapsed": 586,
     "status": "ok",
     "timestamp": 1736942786470,
     "user": {
      "displayName": "LAKHAN JADHAV",
      "userId": "00180205890731745717"
     },
     "user_tz": -330
    },
    "id": "Ppq6qW0Zlpjk"
   },
   "outputs": [],
   "source": [
    "# stopword , Lemmitization\n",
    "corpus=[]\n",
    "for i in range(len(sentence2)):\n",
    "  review=re.sub('[^a-zA-Z]',' ',sentence2[i])\n",
    "  review=review.lower()\n",
    "  review=review.split()\n",
    "  review=[lemmatizer.lemmatize(word) for word in review if not word in set(stopwords.words('english'))]\n",
    "  review=' '.join(review)\n",
    "  corpus.append(review)\n"
   ]
  },
  {
   "cell_type": "code",
   "execution_count": 43,
   "metadata": {
    "executionInfo": {
     "elapsed": 435,
     "status": "ok",
     "timestamp": 1736943933706,
     "user": {
      "displayName": "LAKHAN JADHAV",
      "userId": "00180205890731745717"
     },
     "user_tz": -330
    },
    "id": "uaeuDbrW7GkD"
   },
   "outputs": [],
   "source": [
    "corpus=[]\n",
    "for i in range(len(sentence2)):\n",
    "  review=re.sub('[^a-zA-Z]',' ',sentence2[i])\n",
    "  review=review.lower()\n",
    "  review=review.split()\n",
    "  review=[stemmer.stem(word) for word in review if not word in set(stopwords.words('english'))]\n",
    "  review=' '.join(review)\n",
    "  corpus.append(review)"
   ]
  },
  {
   "cell_type": "code",
   "execution_count": 44,
   "metadata": {
    "colab": {
     "base_uri": "https://localhost:8080/"
    },
    "executionInfo": {
     "elapsed": 477,
     "status": "ok",
     "timestamp": 1736942789022,
     "user": {
      "displayName": "LAKHAN JADHAV",
      "userId": "00180205890731745717"
     },
     "user_tz": -330
    },
    "id": "ilpb8hX3lpg-",
    "outputId": "487918f0-a6b9-42dc-a48a-483c7687c7e9"
   },
   "outputs": [
    {
     "data": {
      "text/plain": [
       "['sun set horizon cast warm golden glow across landscap',\n",
       " 'bird chirp merrili cool even breez rustl leav tree',\n",
       " 'distanc mountain stood tall majest peak dust last remnant snow',\n",
       " 'peac scene remind simpl beauti natur offer moment tranquil midst busi world']"
      ]
     },
     "execution_count": 44,
     "metadata": {},
     "output_type": "execute_result"
    }
   ],
   "source": [
    "corpus"
   ]
  },
  {
   "cell_type": "code",
   "execution_count": 45,
   "metadata": {
    "executionInfo": {
     "elapsed": 501,
     "status": "ok",
     "timestamp": 1736942857335,
     "user": {
      "displayName": "LAKHAN JADHAV",
      "userId": "00180205890731745717"
     },
     "user_tz": -330
    },
    "id": "seD8U2qMlpen"
   },
   "outputs": [],
   "source": [
    "# BOW\n",
    "from sklearn.feature_extraction.text import CountVectorizer,TfidfVectorizer\n",
    "CV=CountVectorizer(binary=True,ngram_range=(5,5))\n",
    "vc=CV.fit_transform(corpus).toarray()"
   ]
  },
  {
   "cell_type": "code",
   "execution_count": 46,
   "metadata": {
    "colab": {
     "base_uri": "https://localhost:8080/"
    },
    "executionInfo": {
     "elapsed": 6,
     "status": "ok",
     "timestamp": 1736942859268,
     "user": {
      "displayName": "LAKHAN JADHAV",
      "userId": "00180205890731745717"
     },
     "user_tz": -330
    },
    "id": "-VofAUUoqGWA",
    "outputId": "60d072aa-1092-43f1-f4a0-682f8f89e186"
   },
   "outputs": [
    {
     "data": {
      "text/plain": [
       "array([[0, 0, 1, 0, 0, 0, 0, 1, 0, 0, 0, 0, 0, 0, 0, 0, 0, 0, 1, 0, 0, 1,\n",
       "        0, 1],\n",
       "       [0, 1, 0, 1, 1, 0, 1, 0, 0, 1, 0, 0, 0, 0, 0, 0, 0, 0, 0, 0, 0, 0,\n",
       "        0, 0],\n",
       "       [0, 0, 0, 0, 0, 1, 0, 0, 1, 0, 0, 1, 0, 0, 0, 1, 0, 0, 0, 0, 1, 0,\n",
       "        1, 0],\n",
       "       [1, 0, 0, 0, 0, 0, 0, 0, 0, 0, 1, 0, 1, 1, 1, 0, 1, 1, 0, 1, 0, 0,\n",
       "        0, 0]], dtype=int64)"
      ]
     },
     "execution_count": 46,
     "metadata": {},
     "output_type": "execute_result"
    }
   ],
   "source": [
    "vc"
   ]
  },
  {
   "cell_type": "code",
   "execution_count": 47,
   "metadata": {
    "colab": {
     "base_uri": "https://localhost:8080/"
    },
    "executionInfo": {
     "elapsed": 504,
     "status": "ok",
     "timestamp": 1736942833286,
     "user": {
      "displayName": "LAKHAN JADHAV",
      "userId": "00180205890731745717"
     },
     "user_tz": -330
    },
    "id": "BvvNBDI6qGZq",
    "outputId": "3e7d5535-97f6-4e4a-a107-06e26950f37d"
   },
   "outputs": [
    {
     "data": {
      "text/plain": [
       "{'sun set horizon cast warm': 21,\n",
       " 'set horizon cast warm golden': 18,\n",
       " 'horizon cast warm golden glow': 7,\n",
       " 'cast warm golden glow across': 2,\n",
       " 'warm golden glow across landscap': 23,\n",
       " 'bird chirp merrili cool even': 1,\n",
       " 'chirp merrili cool even breez': 3,\n",
       " 'merrili cool even breez rustl': 9,\n",
       " 'cool even breez rustl leav': 4,\n",
       " 'even breez rustl leav tree': 6,\n",
       " 'distanc mountain stood tall majest': 5,\n",
       " 'mountain stood tall majest peak': 11,\n",
       " 'stood tall majest peak dust': 20,\n",
       " 'tall majest peak dust last': 22,\n",
       " 'majest peak dust last remnant': 8,\n",
       " 'peak dust last remnant snow': 15,\n",
       " 'peac scene remind simpl beauti': 14,\n",
       " 'scene remind simpl beauti natur': 17,\n",
       " 'remind simpl beauti natur offer': 16,\n",
       " 'simpl beauti natur offer moment': 19,\n",
       " 'beauti natur offer moment tranquil': 0,\n",
       " 'natur offer moment tranquil midst': 12,\n",
       " 'offer moment tranquil midst busi': 13,\n",
       " 'moment tranquil midst busi world': 10}"
      ]
     },
     "execution_count": 47,
     "metadata": {},
     "output_type": "execute_result"
    }
   ],
   "source": [
    "CV.vocabulary_"
   ]
  },
  {
   "cell_type": "code",
   "execution_count": 48,
   "metadata": {
    "executionInfo": {
     "elapsed": 478,
     "status": "ok",
     "timestamp": 1736942901655,
     "user": {
      "displayName": "LAKHAN JADHAV",
      "userId": "00180205890731745717"
     },
     "user_tz": -330
    },
    "id": "GzUZrlJwqGTq"
   },
   "outputs": [],
   "source": [
    "TV=TfidfVectorizer()\n",
    "vc=TV.fit_transform(corpus).toarray()"
   ]
  },
  {
   "cell_type": "code",
   "execution_count": 49,
   "metadata": {
    "colab": {
     "base_uri": "https://localhost:8080/"
    },
    "executionInfo": {
     "elapsed": 498,
     "status": "ok",
     "timestamp": 1736942905999,
     "user": {
      "displayName": "LAKHAN JADHAV",
      "userId": "00180205890731745717"
     },
     "user_tz": -330
    },
    "id": "iRTSTPZNqGQx",
    "outputId": "865ede6d-9472-4a5d-e1d9-2fb37c9d9f39"
   },
   "outputs": [
    {
     "data": {
      "text/plain": [
       "{'sun': 34,\n",
       " 'set': 30,\n",
       " 'horizon': 13,\n",
       " 'cast': 5,\n",
       " 'warm': 38,\n",
       " 'golden': 12,\n",
       " 'glow': 11,\n",
       " 'across': 0,\n",
       " 'landscap': 14,\n",
       " 'bird': 2,\n",
       " 'chirp': 6,\n",
       " 'merrili': 18,\n",
       " 'cool': 7,\n",
       " 'even': 10,\n",
       " 'breez': 3,\n",
       " 'rustl': 28,\n",
       " 'leav': 16,\n",
       " 'tree': 37,\n",
       " 'distanc': 8,\n",
       " 'mountain': 21,\n",
       " 'stood': 33,\n",
       " 'tall': 35,\n",
       " 'majest': 17,\n",
       " 'peak': 25,\n",
       " 'dust': 9,\n",
       " 'last': 15,\n",
       " 'remnant': 27,\n",
       " 'snow': 32,\n",
       " 'peac': 24,\n",
       " 'scene': 29,\n",
       " 'remind': 26,\n",
       " 'simpl': 31,\n",
       " 'beauti': 1,\n",
       " 'natur': 22,\n",
       " 'offer': 23,\n",
       " 'moment': 20,\n",
       " 'tranquil': 36,\n",
       " 'midst': 19,\n",
       " 'busi': 4,\n",
       " 'world': 39}"
      ]
     },
     "execution_count": 49,
     "metadata": {},
     "output_type": "execute_result"
    }
   ],
   "source": [
    "TV.vocabulary_"
   ]
  },
  {
   "cell_type": "code",
   "execution_count": 50,
   "metadata": {
    "colab": {
     "base_uri": "https://localhost:8080/"
    },
    "executionInfo": {
     "elapsed": 455,
     "status": "ok",
     "timestamp": 1736942910764,
     "user": {
      "displayName": "LAKHAN JADHAV",
      "userId": "00180205890731745717"
     },
     "user_tz": -330
    },
    "id": "pGTghKpVqGON",
    "outputId": "aa1458c0-dd5f-4ef0-a860-f4cbbe2012a5"
   },
   "outputs": [
    {
     "data": {
      "text/plain": [
       "array([[0.33333333, 0.        , 0.        , 0.        , 0.        ,\n",
       "        0.33333333, 0.        , 0.        , 0.        , 0.        ,\n",
       "        0.        , 0.33333333, 0.33333333, 0.33333333, 0.33333333,\n",
       "        0.        , 0.        , 0.        , 0.        , 0.        ,\n",
       "        0.        , 0.        , 0.        , 0.        , 0.        ,\n",
       "        0.        , 0.        , 0.        , 0.        , 0.        ,\n",
       "        0.33333333, 0.        , 0.        , 0.        , 0.33333333,\n",
       "        0.        , 0.        , 0.        , 0.33333333, 0.        ],\n",
       "       [0.        , 0.        , 0.33333333, 0.33333333, 0.        ,\n",
       "        0.        , 0.33333333, 0.33333333, 0.        , 0.        ,\n",
       "        0.33333333, 0.        , 0.        , 0.        , 0.        ,\n",
       "        0.        , 0.33333333, 0.        , 0.33333333, 0.        ,\n",
       "        0.        , 0.        , 0.        , 0.        , 0.        ,\n",
       "        0.        , 0.        , 0.        , 0.33333333, 0.        ,\n",
       "        0.        , 0.        , 0.        , 0.        , 0.        ,\n",
       "        0.        , 0.        , 0.33333333, 0.        , 0.        ],\n",
       "       [0.        , 0.        , 0.        , 0.        , 0.        ,\n",
       "        0.        , 0.        , 0.        , 0.31622777, 0.31622777,\n",
       "        0.        , 0.        , 0.        , 0.        , 0.        ,\n",
       "        0.31622777, 0.        , 0.31622777, 0.        , 0.        ,\n",
       "        0.        , 0.31622777, 0.        , 0.        , 0.        ,\n",
       "        0.31622777, 0.        , 0.31622777, 0.        , 0.        ,\n",
       "        0.        , 0.        , 0.31622777, 0.31622777, 0.        ,\n",
       "        0.31622777, 0.        , 0.        , 0.        , 0.        ],\n",
       "       [0.        , 0.28867513, 0.        , 0.        , 0.28867513,\n",
       "        0.        , 0.        , 0.        , 0.        , 0.        ,\n",
       "        0.        , 0.        , 0.        , 0.        , 0.        ,\n",
       "        0.        , 0.        , 0.        , 0.        , 0.28867513,\n",
       "        0.28867513, 0.        , 0.28867513, 0.28867513, 0.28867513,\n",
       "        0.        , 0.28867513, 0.        , 0.        , 0.28867513,\n",
       "        0.        , 0.28867513, 0.        , 0.        , 0.        ,\n",
       "        0.        , 0.28867513, 0.        , 0.        , 0.28867513]])"
      ]
     },
     "execution_count": 50,
     "metadata": {},
     "output_type": "execute_result"
    }
   ],
   "source": [
    "vc"
   ]
  },
  {
   "cell_type": "code",
   "execution_count": null,
   "metadata": {
    "id": "fxuLrmfKqGLn"
   },
   "outputs": [],
   "source": []
  },
  {
   "cell_type": "code",
   "execution_count": 51,
   "metadata": {
    "executionInfo": {
     "elapsed": 1785,
     "status": "ok",
     "timestamp": 1736928307278,
     "user": {
      "displayName": "LAKHAN JADHAV",
      "userId": "00180205890731745717"
     },
     "user_tz": -330
    },
    "id": "8ZAHv_sY80va"
   },
   "outputs": [],
   "source": [
    "corpus1=[]\n",
    "for i in range(len(sentence2)):\n",
    "  text=re.sub('[^a-zA-Z]',' ',sentence2[i])\n",
    "  text=text.lower()\n",
    "  corpus1.append(text)"
   ]
  },
  {
   "cell_type": "code",
   "execution_count": 52,
   "metadata": {
    "colab": {
     "base_uri": "https://localhost:8080/"
    },
    "executionInfo": {
     "elapsed": 3,
     "status": "ok",
     "timestamp": 1736928307278,
     "user": {
      "displayName": "LAKHAN JADHAV",
      "userId": "00180205890731745717"
     },
     "user_tz": -330
    },
    "id": "arLSVmZp85SV",
    "outputId": "56457ca8-e6aa-4b19-b37d-ca2cb7330782"
   },
   "outputs": [
    {
     "data": {
      "text/plain": [
       "[' the sun was setting over the horizon  casting a warm golden glow across the landscape ',\n",
       " 'birds chirped merrily as the cool evening breeze rustled the leaves of the trees ',\n",
       " 'in the distance  the mountains stood tall and majestic  their peaks dusted with the last remnants of snow ',\n",
       " 'the peaceful scene was a reminder of the simple beauty that nature offers  a moment of tranquility in the midst of a busy world ']"
      ]
     },
     "execution_count": 52,
     "metadata": {},
     "output_type": "execute_result"
    }
   ],
   "source": [
    "corpus1"
   ]
  },
  {
   "cell_type": "code",
   "execution_count": 53,
   "metadata": {
    "executionInfo": {
     "elapsed": 587,
     "status": "ok",
     "timestamp": 1736927934916,
     "user": {
      "displayName": "LAKHAN JADHAV",
      "userId": "00180205890731745717"
     },
     "user_tz": -330
    },
    "id": "Yg8M1ftF9a9F"
   },
   "outputs": [],
   "source": [
    "##stemming [Process of reducing wprd to their base word]\n",
    "\n",
    "stopwords=stopwords.words('english')"
   ]
  },
  {
   "cell_type": "code",
   "execution_count": 54,
   "metadata": {
    "executionInfo": {
     "elapsed": 499,
     "status": "ok",
     "timestamp": 1736927962754,
     "user": {
      "displayName": "LAKHAN JADHAV",
      "userId": "00180205890731745717"
     },
     "user_tz": -330
    },
    "id": "rbRTFHdA-PRz"
   },
   "outputs": [],
   "source": [
    "#stopwords"
   ]
  },
  {
   "cell_type": "code",
   "execution_count": 55,
   "metadata": {
    "colab": {
     "base_uri": "https://localhost:8080/"
    },
    "executionInfo": {
     "elapsed": 689,
     "status": "ok",
     "timestamp": 1736928501686,
     "user": {
      "displayName": "LAKHAN JADHAV",
      "userId": "00180205890731745717"
     },
     "user_tz": -330
    },
    "id": "kPH9Sdy9-SlX",
    "outputId": "e0ff0db2-73f2-4efc-978b-d015a5ca17d0"
   },
   "outputs": [
    {
     "name": "stdout",
     "output_type": "stream",
     "text": [
      "sun\n",
      "set\n",
      "horizon\n",
      "cast\n",
      "warm\n",
      "golden\n",
      "glow\n",
      "across\n",
      "landscap\n",
      "bird\n",
      "chirp\n",
      "merrili\n",
      "cool\n",
      "even\n",
      "breez\n",
      "rustl\n",
      "leav\n",
      "tree\n",
      "distanc\n",
      "mountain\n",
      "stood\n",
      "tall\n",
      "majest\n",
      "peak\n",
      "dust\n",
      "last\n",
      "remnant\n",
      "snow\n",
      "peac\n",
      "scene\n",
      "remind\n",
      "simpl\n",
      "beauti\n",
      "natur\n",
      "offer\n",
      "moment\n",
      "tranquil\n",
      "midst\n",
      "busi\n",
      "world\n"
     ]
    }
   ],
   "source": [
    "for i in corpus:\n",
    "  word=nltk.word_tokenize(i)\n",
    "  for j in word:\n",
    "    if j not in set(stopwords):\n",
    "      print(stemmer.stem(j))"
   ]
  },
  {
   "cell_type": "code",
   "execution_count": null,
   "metadata": {
    "id": "IM-cHDEL-Xn0"
   },
   "outputs": [],
   "source": []
  },
  {
   "cell_type": "code",
   "execution_count": null,
   "metadata": {
    "id": "unywdBBA-XkU"
   },
   "outputs": [],
   "source": []
  },
  {
   "cell_type": "code",
   "execution_count": null,
   "metadata": {
    "id": "JWSDNrup-Xhx"
   },
   "outputs": [],
   "source": []
  },
  {
   "cell_type": "code",
   "execution_count": null,
   "metadata": {
    "id": "msjq2nCC-Xfc"
   },
   "outputs": [],
   "source": []
  },
  {
   "cell_type": "code",
   "execution_count": null,
   "metadata": {
    "id": "9ugsZGVF-XdD"
   },
   "outputs": [],
   "source": []
  },
  {
   "cell_type": "code",
   "execution_count": null,
   "metadata": {
    "id": "522U6ye9-Xac"
   },
   "outputs": [],
   "source": []
  }
 ],
 "metadata": {
  "colab": {
   "authorship_tag": "ABX9TyO+YMvPMEpCG5svBrJUDb8y",
   "provenance": []
  },
  "kernelspec": {
   "display_name": "Python 3 (ipykernel)",
   "language": "python",
   "name": "python3"
  },
  "language_info": {
   "codemirror_mode": {
    "name": "ipython",
    "version": 3
   },
   "file_extension": ".py",
   "mimetype": "text/x-python",
   "name": "python",
   "nbconvert_exporter": "python",
   "pygments_lexer": "ipython3",
   "version": "3.12.7"
  }
 },
 "nbformat": 4,
 "nbformat_minor": 4
}
